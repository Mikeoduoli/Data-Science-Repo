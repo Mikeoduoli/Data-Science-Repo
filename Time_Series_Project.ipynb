{
  "nbformat": 4,
  "nbformat_minor": 0,
  "metadata": {
    "colab": {
      "provenance": [],
      "toc_visible": true,
      "authorship_tag": "ABX9TyOxPJ95qrB+qi9sJU4lVDg3",
      "include_colab_link": true
    },
    "kernelspec": {
      "name": "python3",
      "display_name": "Python 3"
    },
    "language_info": {
      "name": "python"
    }
  },
  "cells": [
    {
      "cell_type": "markdown",
      "metadata": {
        "id": "view-in-github",
        "colab_type": "text"
      },
      "source": [
        "<a href=\"https://colab.research.google.com/github/Mikeoduoli/Data-Science-Repo/blob/main/Time_Series_Project.ipynb\" target=\"_parent\"><img src=\"https://colab.research.google.com/assets/colab-badge.svg\" alt=\"Open In Colab\"/></a>"
      ]
    },
    {
      "cell_type": "code",
      "execution_count": null,
      "metadata": {
        "id": "Atyc3onw4O3R"
      },
      "outputs": [],
      "source": [
        "#import Python libraries for the task\n",
        "import pandas as pd\n",
        "import warnings\n",
        "import pytz\n",
        "import plotly.express as px\n",
        "import matplotlib.pyplot as plt\n",
        "import plotly.graph_objects as go\n",
        "from statsmodels.tsa.seasonal import seasonal_decompose\n",
        "warnings.filterwarnings('ignore', category=FutureWarning)"
      ]
    }
  ]
}